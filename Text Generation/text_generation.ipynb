{
  "nbformat": 4,
  "nbformat_minor": 0,
  "metadata": {
    "colab": {
      "provenance": [],
      "gpuType": "T4"
    },
    "kernelspec": {
      "name": "python3",
      "display_name": "Python 3"
    },
    "language_info": {
      "name": "python"
    },
    "accelerator": "GPU"
  },
  "cells": [
    {
      "cell_type": "code",
      "source": [
        "import tensorflow as tf\n",
        "import numpy as np\n",
        "import string"
      ],
      "metadata": {
        "id": "wwCVKPDkXLhf"
      },
      "execution_count": 3,
      "outputs": []
    },
    {
      "cell_type": "code",
      "source": [
        "path_to_file = tf.keras.utils.get_file(\n",
        "    \"shakespeare.txt\",\n",
        "    \"https://storage.googleapis.com/download.tensorflow.org/data/shakespeare.txt\"\n",
        ")"
      ],
      "metadata": {
        "colab": {
          "base_uri": "https://localhost:8080/"
        },
        "id": "B378Xfx2YtJL",
        "outputId": "8e548ae5-2383-46c9-a2e4-0d19aa28899f"
      },
      "execution_count": 4,
      "outputs": [
        {
          "output_type": "stream",
          "name": "stdout",
          "text": [
            "Downloading data from https://storage.googleapis.com/download.tensorflow.org/data/shakespeare.txt\n",
            "\u001b[1m1115394/1115394\u001b[0m \u001b[32m━━━━━━━━━━━━━━━━━━━━\u001b[0m\u001b[37m\u001b[0m \u001b[1m0s\u001b[0m 0us/step\n"
          ]
        }
      ]
    },
    {
      "cell_type": "code",
      "source": [
        "textData = open(path_to_file, 'rb').read().decode(encoding='utf-8')"
      ],
      "metadata": {
        "id": "LYw1MCDSYyYg"
      },
      "execution_count": 5,
      "outputs": []
    },
    {
      "cell_type": "code",
      "source": [],
      "metadata": {
        "id": "rwrGicT9-KQV"
      },
      "execution_count": 5,
      "outputs": []
    },
    {
      "cell_type": "code",
      "source": [
        "print(\"length of data\", len(textData)) # no. of characters"
      ],
      "metadata": {
        "colab": {
          "base_uri": "https://localhost:8080/"
        },
        "id": "Fx-WYh-dY7DD",
        "outputId": "0f0ad09d-59cc-4f1d-ac83-f96ebcfabdc6"
      },
      "execution_count": 6,
      "outputs": [
        {
          "output_type": "stream",
          "name": "stdout",
          "text": [
            "length of data 1115394\n"
          ]
        }
      ]
    },
    {
      "cell_type": "code",
      "source": [
        "# clean the data of symbols and alpha numerics symbols and escape sequences\n",
        "def clean_text(doc):\n",
        "  tokens = doc.split()\n",
        "  table = str.maketrans(\"\",\"\", string.punctuation) # give a list of symbols like /@#$%^&* etc\n",
        "  tokens = [w.translate(table) for w in tokens] # return list which is striped of symbols\n",
        "  tokens = [word for word in tokens if word.isalpha()]\n",
        "  tokens = [word.lower() for word in tokens]\n",
        "  return tokens"
      ],
      "metadata": {
        "id": "zSwBlXIkZsn7"
      },
      "execution_count": 7,
      "outputs": []
    },
    {
      "cell_type": "code",
      "source": [
        "tokens = clean_text(textData)\n",
        "print(tokens[:50])"
      ],
      "metadata": {
        "colab": {
          "base_uri": "https://localhost:8080/"
        },
        "id": "5FIZ3c8WrfxP",
        "outputId": "792d17bd-c8d8-427d-ca1b-436d0b19a39a"
      },
      "execution_count": 8,
      "outputs": [
        {
          "output_type": "stream",
          "name": "stdout",
          "text": [
            "['first', 'citizen', 'before', 'we', 'proceed', 'any', 'further', 'hear', 'me', 'speak', 'all', 'speak', 'speak', 'first', 'citizen', 'you', 'are', 'all', 'resolved', 'rather', 'to', 'die', 'than', 'to', 'famish', 'all', 'resolved', 'resolved', 'first', 'citizen', 'first', 'you', 'know', 'caius', 'marcius', 'is', 'chief', 'enemy', 'to', 'the', 'people', 'all', 'we', 'knowt', 'we', 'knowt', 'first', 'citizen', 'let', 'us']\n"
          ]
        }
      ]
    },
    {
      "cell_type": "code",
      "source": [
        "len(tokens) # total no. of words"
      ],
      "metadata": {
        "colab": {
          "base_uri": "https://localhost:8080/"
        },
        "id": "6o0o-PjSr9rz",
        "outputId": "dd934591-ff3c-4ae9-86eb-9707ba79f1bc"
      },
      "execution_count": 9,
      "outputs": [
        {
          "output_type": "execute_result",
          "data": {
            "text/plain": [
              "202619"
            ]
          },
          "metadata": {},
          "execution_count": 9
        }
      ]
    },
    {
      "cell_type": "code",
      "source": [
        "len(set(tokens)) # total no. of unique words"
      ],
      "metadata": {
        "colab": {
          "base_uri": "https://localhost:8080/"
        },
        "id": "ItIGHcdisKcW",
        "outputId": "9cff9923-e4b7-410a-d4f5-7b8c25338888"
      },
      "execution_count": 10,
      "outputs": [
        {
          "output_type": "execute_result",
          "data": {
            "text/plain": [
              "12847"
            ]
          },
          "metadata": {},
          "execution_count": 10
        }
      ]
    },
    {
      "cell_type": "code",
      "source": [
        "# creating a list of 11 word sentences\n",
        "length = 10 + 1 # 10 word in memory and 1 to predict\n",
        "lines = []\n",
        "\n",
        "for i in range(length, len(tokens)):\n",
        "  sequence = tokens[i - length : i] # 0-11 12-23\n",
        "  line = ' '.join(sequence) # combine the seperate words\n",
        "  lines.append(line)\n"
      ],
      "metadata": {
        "id": "F5rYZrUJsWST"
      },
      "execution_count": 11,
      "outputs": []
    },
    {
      "cell_type": "code",
      "source": [
        "print(lines[0], \"|||\",lines[1])"
      ],
      "metadata": {
        "colab": {
          "base_uri": "https://localhost:8080/"
        },
        "id": "3ZsZNqBmtwyv",
        "outputId": "be3c1125-a757-4bdc-c9c2-43a7d3e39301"
      },
      "execution_count": 12,
      "outputs": [
        {
          "output_type": "stream",
          "name": "stdout",
          "text": [
            "first citizen before we proceed any further hear me speak all ||| citizen before we proceed any further hear me speak all speak\n"
          ]
        }
      ]
    },
    {
      "cell_type": "markdown",
      "source": [
        "# Building Model"
      ],
      "metadata": {
        "id": "UoYk0EX2udBE"
      }
    },
    {
      "cell_type": "code",
      "source": [
        "from tensorflow.keras.preprocessing.text import Tokenizer\n",
        "from tensorflow.keras.utils import to_categorical\n",
        "from tensorflow.keras.models import Sequential\n",
        "from tensorflow.keras.layers import Dense, LSTM, Embedding\n",
        "from tensorflow.keras.preprocessing.sequence import pad_sequences\n",
        "from sklearn.model_selection import train_test_split"
      ],
      "metadata": {
        "id": "iNIDpEPXtx4O"
      },
      "execution_count": 13,
      "outputs": []
    },
    {
      "cell_type": "code",
      "source": [
        "# tokenizing the text data into machine understandable numerical structures\n",
        "tokenizer = Tokenizer()\n",
        "tokenizer.fit_on_texts(lines) # fitting for our data\n",
        "sequences = tokenizer.texts_to_sequences(lines) # text to index(number) mapping"
      ],
      "metadata": {
        "id": "a5rycCdBvNrZ"
      },
      "execution_count": 14,
      "outputs": []
    },
    {
      "cell_type": "code",
      "source": [
        "sequences = np.array(sequences) # converting to numpy array\n",
        "print(sequences[:10]) # printing 10 lines"
      ],
      "metadata": {
        "colab": {
          "base_uri": "https://localhost:8080/"
        },
        "id": "xxvd6n_TwbQh",
        "outputId": "37dd2380-456d-4ea5-fdbe-cc6cdad27bbd"
      },
      "execution_count": 15,
      "outputs": [
        {
          "output_type": "stream",
          "name": "stdout",
          "text": [
            "[[  88  269  137   35 1003  143  676  124   15  105   33]\n",
            " [ 269  137   35 1003  143  676  124   15  105   33  105]\n",
            " [ 137   35 1003  143  676  124   15  105   33  105  105]\n",
            " [  35 1003  143  676  124   15  105   33  105  105   88]\n",
            " [1003  143  676  124   15  105   33  105  105   88  269]\n",
            " [ 143  676  124   15  105   33  105  105   88  269    6]\n",
            " [ 676  124   15  105   33  105  105   88  269    6   40]\n",
            " [ 124   15  105   33  105  105   88  269    6   40   33]\n",
            " [  15  105   33  105  105   88  269    6   40   33 1256]\n",
            " [ 105   33  105  105   88  269    6   40   33 1256  350]]\n"
          ]
        }
      ]
    },
    {
      "cell_type": "code",
      "source": [
        "X = sequences[:, :-1]\n",
        "Y = sequences[:, -1]\n",
        "print(X.shape,Y.shape)"
      ],
      "metadata": {
        "colab": {
          "base_uri": "https://localhost:8080/"
        },
        "id": "nc1Xfny6wpdn",
        "outputId": "387b1479-6690-45a0-be97-e4ff4aa047e6"
      },
      "execution_count": 16,
      "outputs": [
        {
          "output_type": "stream",
          "name": "stdout",
          "text": [
            "(202608, 10) (202608,)\n"
          ]
        }
      ]
    },
    {
      "cell_type": "code",
      "source": [
        "tokenizer.word_index # gives a dictionary mapping unique words to a number"
      ],
      "metadata": {
        "colab": {
          "base_uri": "https://localhost:8080/"
        },
        "collapsed": true,
        "id": "mFYkHi_wxkfB",
        "outputId": "bed6c347-3491-4e5e-a1ae-b99035ab9674"
      },
      "execution_count": 55,
      "outputs": [
        {
          "output_type": "execute_result",
          "data": {
            "text/plain": [
              "{'the': 1,\n",
              " 'and': 2,\n",
              " 'to': 3,\n",
              " 'i': 4,\n",
              " 'of': 5,\n",
              " 'you': 6,\n",
              " 'my': 7,\n",
              " 'a': 8,\n",
              " 'that': 9,\n",
              " 'in': 10,\n",
              " 'is': 11,\n",
              " 'not': 12,\n",
              " 'for': 13,\n",
              " 'with': 14,\n",
              " 'me': 15,\n",
              " 'it': 16,\n",
              " 'be': 17,\n",
              " 'your': 18,\n",
              " 'his': 19,\n",
              " 'this': 20,\n",
              " 'but': 21,\n",
              " 'he': 22,\n",
              " 'have': 23,\n",
              " 'as': 24,\n",
              " 'thou': 25,\n",
              " 'him': 26,\n",
              " 'so': 27,\n",
              " 'what': 28,\n",
              " 'thy': 29,\n",
              " 'will': 30,\n",
              " 'no': 31,\n",
              " 'by': 32,\n",
              " 'all': 33,\n",
              " 'king': 34,\n",
              " 'we': 35,\n",
              " 'shall': 36,\n",
              " 'her': 37,\n",
              " 'if': 38,\n",
              " 'our': 39,\n",
              " 'are': 40,\n",
              " 'do': 41,\n",
              " 'thee': 42,\n",
              " 'now': 43,\n",
              " 'lord': 44,\n",
              " 'good': 45,\n",
              " 'on': 46,\n",
              " 'o': 47,\n",
              " 'come': 48,\n",
              " 'from': 49,\n",
              " 'sir': 50,\n",
              " 'or': 51,\n",
              " 'which': 52,\n",
              " 'more': 53,\n",
              " 'then': 54,\n",
              " 'well': 55,\n",
              " 'at': 56,\n",
              " 'would': 57,\n",
              " 'was': 58,\n",
              " 'they': 59,\n",
              " 'how': 60,\n",
              " 'here': 61,\n",
              " 'she': 62,\n",
              " 'than': 63,\n",
              " 'their': 64,\n",
              " 'them': 65,\n",
              " 'ill': 66,\n",
              " 'duke': 67,\n",
              " 'am': 68,\n",
              " 'hath': 69,\n",
              " 'say': 70,\n",
              " 'let': 71,\n",
              " 'when': 72,\n",
              " 'one': 73,\n",
              " 'go': 74,\n",
              " 'were': 75,\n",
              " 'love': 76,\n",
              " 'may': 77,\n",
              " 'us': 78,\n",
              " 'make': 79,\n",
              " 'upon': 80,\n",
              " 'yet': 81,\n",
              " 'richard': 82,\n",
              " 'like': 83,\n",
              " 'there': 84,\n",
              " 'must': 85,\n",
              " 'should': 86,\n",
              " 'an': 87,\n",
              " 'first': 88,\n",
              " 'why': 89,\n",
              " 'queen': 90,\n",
              " 'had': 91,\n",
              " 'know': 92,\n",
              " 'man': 93,\n",
              " 'did': 94,\n",
              " 'tis': 95,\n",
              " 'where': 96,\n",
              " 'see': 97,\n",
              " 'some': 98,\n",
              " 'too': 99,\n",
              " 'death': 100,\n",
              " 'give': 101,\n",
              " 'these': 102,\n",
              " 'who': 103,\n",
              " 'take': 104,\n",
              " 'speak': 105,\n",
              " 'edward': 106,\n",
              " 'york': 107,\n",
              " 'mine': 108,\n",
              " 'such': 109,\n",
              " 'up': 110,\n",
              " 'out': 111,\n",
              " 'henry': 112,\n",
              " 'romeo': 113,\n",
              " 'can': 114,\n",
              " 'father': 115,\n",
              " 'tell': 116,\n",
              " 'time': 117,\n",
              " 'gloucester': 118,\n",
              " 'most': 119,\n",
              " 'lady': 120,\n",
              " 'son': 121,\n",
              " 'nor': 122,\n",
              " 'vincentio': 123,\n",
              " 'hear': 124,\n",
              " 'life': 125,\n",
              " 'god': 126,\n",
              " 'made': 127,\n",
              " 'art': 128,\n",
              " 'think': 129,\n",
              " 'much': 130,\n",
              " 'warwick': 131,\n",
              " 'heart': 132,\n",
              " 'never': 133,\n",
              " 'doth': 134,\n",
              " 'brother': 135,\n",
              " 'ay': 136,\n",
              " 'before': 137,\n",
              " 'true': 138,\n",
              " 'both': 139,\n",
              " 'cannot': 140,\n",
              " 'thus': 141,\n",
              " 'petruchio': 142,\n",
              " 'any': 143,\n",
              " 'being': 144,\n",
              " 'away': 145,\n",
              " 'blood': 146,\n",
              " 'been': 147,\n",
              " 'fair': 148,\n",
              " 'name': 149,\n",
              " 'coriolanus': 150,\n",
              " 'men': 151,\n",
              " 'noble': 152,\n",
              " 'menenius': 153,\n",
              " 'look': 154,\n",
              " 'again': 155,\n",
              " 'very': 156,\n",
              " 'hand': 157,\n",
              " 'day': 158,\n",
              " 'own': 159,\n",
              " 'pray': 160,\n",
              " 'done': 161,\n",
              " 'juliet': 162,\n",
              " 'second': 163,\n",
              " 'myself': 164,\n",
              " 'sweet': 165,\n",
              " 'leave': 166,\n",
              " 'therefore': 167,\n",
              " 'great': 168,\n",
              " 'against': 169,\n",
              " 'though': 170,\n",
              " 'poor': 171,\n",
              " 'honour': 172,\n",
              " 'down': 173,\n",
              " 'hast': 174,\n",
              " 'prince': 175,\n",
              " 'way': 176,\n",
              " 'angelo': 177,\n",
              " 'fear': 178,\n",
              " 'old': 179,\n",
              " 'nay': 180,\n",
              " 'heaven': 181,\n",
              " 'clarence': 182,\n",
              " 'till': 183,\n",
              " 'call': 184,\n",
              " 'eyes': 185,\n",
              " 'world': 186,\n",
              " 'stay': 187,\n",
              " 'live': 188,\n",
              " 'stand': 189,\n",
              " 'nurse': 190,\n",
              " 'grace': 191,\n",
              " 'comes': 192,\n",
              " 'many': 193,\n",
              " 'even': 194,\n",
              " 'ever': 195,\n",
              " 'die': 196,\n",
              " 'nothing': 197,\n",
              " 'wife': 198,\n",
              " 'dead': 199,\n",
              " 'iii': 200,\n",
              " 'whose': 201,\n",
              " 'bear': 202,\n",
              " 'night': 203,\n",
              " 'other': 204,\n",
              " 'bolingbroke': 205,\n",
              " 'isabella': 206,\n",
              " 'friends': 207,\n",
              " 'leontes': 208,\n",
              " 'head': 209,\n",
              " 'friar': 210,\n",
              " 'peace': 211,\n",
              " 'buckingham': 212,\n",
              " 'unto': 213,\n",
              " 'better': 214,\n",
              " 'those': 215,\n",
              " 'lords': 216,\n",
              " 'word': 217,\n",
              " 'off': 218,\n",
              " 'gone': 219,\n",
              " 'tranio': 220,\n",
              " 'mother': 221,\n",
              " 'hence': 222,\n",
              " 'two': 223,\n",
              " 'marcius': 224,\n",
              " 'house': 225,\n",
              " 'could': 226,\n",
              " 'since': 227,\n",
              " 'still': 228,\n",
              " 'news': 229,\n",
              " 'lucio': 230,\n",
              " 'little': 231,\n",
              " 'sicinius': 232,\n",
              " 'master': 233,\n",
              " 'gentleman': 234,\n",
              " 'daughter': 235,\n",
              " 'soul': 236,\n",
              " 'thing': 237,\n",
              " 'once': 238,\n",
              " 'put': 239,\n",
              " 'whom': 240,\n",
              " 'margaret': 241,\n",
              " 'himself': 242,\n",
              " 'long': 243,\n",
              " 'face': 244,\n",
              " 'set': 245,\n",
              " 'camillo': 246,\n",
              " 'ere': 247,\n",
              " 'words': 248,\n",
              " 'else': 249,\n",
              " 'thine': 250,\n",
              " 'iv': 251,\n",
              " 'elizabeth': 252,\n",
              " 'capulet': 253,\n",
              " 'none': 254,\n",
              " 'katharina': 255,\n",
              " 'might': 256,\n",
              " 'rest': 257,\n",
              " 'gods': 258,\n",
              " 'best': 259,\n",
              " 'madam': 260,\n",
              " 'crown': 261,\n",
              " 'power': 262,\n",
              " 'pardon': 263,\n",
              " 'young': 264,\n",
              " 'dear': 265,\n",
              " 'tongue': 266,\n",
              " 'farewell': 267,\n",
              " 'part': 268,\n",
              " 'citizen': 269,\n",
              " 'bring': 270,\n",
              " 'vi': 271,\n",
              " 'keep': 272,\n",
              " 'hope': 273,\n",
              " 'gentle': 274,\n",
              " 'ii': 275,\n",
              " 'right': 276,\n",
              " 'hastings': 277,\n",
              " 'find': 278,\n",
              " 'every': 279,\n",
              " 'said': 280,\n",
              " 'lucentio': 281,\n",
              " 'came': 282,\n",
              " 'forth': 283,\n",
              " 'bid': 284,\n",
              " 'hortensio': 285,\n",
              " 'home': 286,\n",
              " 'earth': 287,\n",
              " 'hands': 288,\n",
              " 'brutus': 289,\n",
              " 'lets': 290,\n",
              " 'welcome': 291,\n",
              " 'into': 292,\n",
              " 'cause': 293,\n",
              " 'hold': 294,\n",
              " 'dost': 295,\n",
              " 'about': 296,\n",
              " 'back': 297,\n",
              " 'boy': 298,\n",
              " 'tears': 299,\n",
              " 'baptista': 300,\n",
              " 'please': 301,\n",
              " 'rome': 302,\n",
              " 'thats': 303,\n",
              " 'mistress': 304,\n",
              " 'provost': 305,\n",
              " 'people': 306,\n",
              " 'help': 307,\n",
              " 'makes': 308,\n",
              " 'indeed': 309,\n",
              " 'heard': 310,\n",
              " 'full': 311,\n",
              " 'cousin': 312,\n",
              " 'show': 313,\n",
              " 'thought': 314,\n",
              " 'after': 315,\n",
              " 'has': 316,\n",
              " 'mind': 317,\n",
              " 'cominius': 318,\n",
              " 'place': 319,\n",
              " 'wilt': 320,\n",
              " 'escalus': 321,\n",
              " 'grumio': 322,\n",
              " 'husband': 323,\n",
              " 'marry': 324,\n",
              " 'pompey': 325,\n",
              " 'friend': 326,\n",
              " 'whats': 327,\n",
              " 'state': 328,\n",
              " 'mean': 329,\n",
              " 'shame': 330,\n",
              " 'within': 331,\n",
              " 'gremio': 332,\n",
              " 'while': 333,\n",
              " 'servant': 334,\n",
              " 'clifford': 335,\n",
              " 'hes': 336,\n",
              " 'fathers': 337,\n",
              " 'only': 338,\n",
              " 'hither': 339,\n",
              " 'aufidius': 340,\n",
              " 'gracious': 341,\n",
              " 'answer': 342,\n",
              " 'eye': 343,\n",
              " 'last': 344,\n",
              " 'far': 345,\n",
              " 'prove': 346,\n",
              " 'royal': 347,\n",
              " 'northumberland': 348,\n",
              " 'duchess': 349,\n",
              " 'rather': 350,\n",
              " 'thousand': 351,\n",
              " 'lie': 352,\n",
              " 'mercutio': 353,\n",
              " 'another': 354,\n",
              " 'third': 355,\n",
              " 'meet': 356,\n",
              " 'paulina': 357,\n",
              " 'claudio': 358,\n",
              " 'murderer': 359,\n",
              " 'lay': 360,\n",
              " 'shalt': 361,\n",
              " 'child': 362,\n",
              " 'use': 363,\n",
              " 'beseech': 364,\n",
              " 'joy': 365,\n",
              " 'lies': 366,\n",
              " 'comfort': 367,\n",
              " 'sorrow': 368,\n",
              " 'tomorrow': 369,\n",
              " 'grief': 370,\n",
              " 'benvolio': 371,\n",
              " 'war': 372,\n",
              " 'sun': 373,\n",
              " 'kings': 374,\n",
              " 'less': 375,\n",
              " 'polixenes': 376,\n",
              " 'autolycus': 377,\n",
              " 'end': 378,\n",
              " 'fellow': 379,\n",
              " 'hour': 380,\n",
              " 'years': 381,\n",
              " 'happy': 382,\n",
              " 'fortune': 383,\n",
              " 'business': 384,\n",
              " 'thank': 385,\n",
              " 'holy': 386,\n",
              " 'montague': 387,\n",
              " 'enough': 388,\n",
              " 'matter': 389,\n",
              " 'arms': 390,\n",
              " 'grave': 391,\n",
              " 'things': 392,\n",
              " 'hate': 393,\n",
              " 'faith': 394,\n",
              " 'bed': 395,\n",
              " 'truth': 396,\n",
              " 'light': 397,\n",
              " 'lives': 398,\n",
              " 'clown': 399,\n",
              " 'prospero': 400,\n",
              " 'body': 401,\n",
              " 'three': 402,\n",
              " 'fall': 403,\n",
              " 'save': 404,\n",
              " 'pity': 405,\n",
              " 'without': 406,\n",
              " 'nature': 407,\n",
              " 'kind': 408,\n",
              " 'get': 409,\n",
              " 'theres': 410,\n",
              " 'send': 411,\n",
              " 'days': 412,\n",
              " 'turn': 413,\n",
              " 'swear': 414,\n",
              " 'tybalt': 415,\n",
              " 'laurence': 416,\n",
              " 'kate': 417,\n",
              " 'fight': 418,\n",
              " 'hell': 419,\n",
              " 'saw': 420,\n",
              " 'believe': 421,\n",
              " 'false': 422,\n",
              " 'ah': 423,\n",
              " 'bianca': 424,\n",
              " 'follow': 425,\n",
              " 'law': 426,\n",
              " 'means': 427,\n",
              " 'present': 428,\n",
              " 'yours': 429,\n",
              " 'yourself': 430,\n",
              " 'does': 431,\n",
              " 'looks': 432,\n",
              " 'villain': 433,\n",
              " 'uncle': 434,\n",
              " 'neer': 435,\n",
              " 'volumnia': 436,\n",
              " 'bloody': 437,\n",
              " 'left': 438,\n",
              " 'sleep': 439,\n",
              " 'talk': 440,\n",
              " 'anne': 441,\n",
              " 'foul': 442,\n",
              " 'aumerle': 443,\n",
              " 'city': 444,\n",
              " 'proud': 445,\n",
              " 'need': 446,\n",
              " 'worthy': 447,\n",
              " 'told': 448,\n",
              " 'hearts': 449,\n",
              " 'mercy': 450,\n",
              " 'brothers': 451,\n",
              " 'woman': 452,\n",
              " 'servingman': 453,\n",
              " 'land': 454,\n",
              " 'sit': 455,\n",
              " 'messenger': 456,\n",
              " 'wish': 457,\n",
              " 'play': 458,\n",
              " 'sound': 459,\n",
              " 'shepherd': 460,\n",
              " 'sea': 461,\n",
              " 'because': 462,\n",
              " 'justice': 463,\n",
              " 'sword': 464,\n",
              " 'high': 465,\n",
              " 'together': 466,\n",
              " 'doubt': 467,\n",
              " 'breath': 468,\n",
              " 'thyself': 469,\n",
              " 'gaunt': 470,\n",
              " 'either': 471,\n",
              " 'through': 472,\n",
              " 'fire': 473,\n",
              " 'horse': 474,\n",
              " 'majesty': 475,\n",
              " 'woe': 476,\n",
              " 'john': 477,\n",
              " 'biondello': 478,\n",
              " 'under': 479,\n",
              " 'break': 480,\n",
              " 'children': 481,\n",
              " 'seen': 482,\n",
              " 'heres': 483,\n",
              " 'sovereign': 484,\n",
              " 'sister': 485,\n",
              " 'catesby': 486,\n",
              " 'paris': 487,\n",
              " 'heavy': 488,\n",
              " 'maid': 489,\n",
              " 'content': 490,\n",
              " 'care': 491,\n",
              " 'twas': 492,\n",
              " 'gentlemen': 493,\n",
              " 'times': 494,\n",
              " 'lost': 495,\n",
              " 'signior': 496,\n",
              " 'kill': 497,\n",
              " 'purpose': 498,\n",
              " 'says': 499,\n",
              " 'ready': 500,\n",
              " 'ears': 501,\n",
              " 'haste': 502,\n",
              " 'fly': 503,\n",
              " 'loves': 504,\n",
              " 'age': 505,\n",
              " 'traitor': 506,\n",
              " 'wrong': 507,\n",
              " 'oath': 508,\n",
              " 'canst': 509,\n",
              " 'alas': 510,\n",
              " 'edwards': 511,\n",
              " 'norfolk': 512,\n",
              " 'florizel': 513,\n",
              " 'each': 514,\n",
              " 'strange': 515,\n",
              " 'alone': 516,\n",
              " 'warrant': 517,\n",
              " 'late': 518,\n",
              " 'reason': 519,\n",
              " 'weep': 520,\n",
              " 'new': 521,\n",
              " 'grey': 522,\n",
              " 'liege': 523,\n",
              " 'hermione': 524,\n",
              " 'remember': 525,\n",
              " 'rivers': 526,\n",
              " 'thanks': 527,\n",
              " 'cry': 528,\n",
              " 'sent': 529,\n",
              " 'brought': 530,\n",
              " 'thoughts': 531,\n",
              " 'slain': 532,\n",
              " 'stands': 533,\n",
              " 'hours': 534,\n",
              " 'kiss': 535,\n",
              " 'strike': 536,\n",
              " 'mark': 537,\n",
              " 'return': 538,\n",
              " 'seem': 539,\n",
              " 'charge': 540,\n",
              " 'spirit': 541,\n",
              " 'knows': 542,\n",
              " 'having': 543,\n",
              " 'free': 544,\n",
              " 'ground': 545,\n",
              " 'straight': 546,\n",
              " 'loss': 547,\n",
              " 'lest': 548,\n",
              " 'married': 549,\n",
              " 'didst': 550,\n",
              " 'france': 551,\n",
              " 'report': 552,\n",
              " 'person': 553,\n",
              " 'found': 554,\n",
              " 'born': 555,\n",
              " 'souls': 556,\n",
              " 'service': 557,\n",
              " 'near': 558,\n",
              " 'cold': 559,\n",
              " 'sebastian': 560,\n",
              " 'common': 561,\n",
              " 'ye': 562,\n",
              " 'senator': 563,\n",
              " 'sin': 564,\n",
              " 'lose': 565,\n",
              " 'heavens': 566,\n",
              " 'yea': 567,\n",
              " 'desire': 568,\n",
              " 'sight': 569,\n",
              " 'widow': 570,\n",
              " 'richmond': 571,\n",
              " 'yield': 572,\n",
              " 'general': 573,\n",
              " 'fool': 574,\n",
              " 'fie': 575,\n",
              " 'air': 576,\n",
              " 'foot': 577,\n",
              " 'twere': 578,\n",
              " 'itself': 579,\n",
              " 'sure': 580,\n",
              " 'soon': 581,\n",
              " 'tender': 582,\n",
              " 'shes': 583,\n",
              " 'enemy': 584,\n",
              " 'citizens': 585,\n",
              " 'arm': 586,\n",
              " 'youll': 587,\n",
              " 'ha': 588,\n",
              " 'fault': 589,\n",
              " 'prithee': 590,\n",
              " 'deep': 591,\n",
              " 'women': 592,\n",
              " 'prison': 593,\n",
              " 'duty': 594,\n",
              " 'saint': 595,\n",
              " 'honest': 596,\n",
              " 'patience': 597,\n",
              " 'trust': 598,\n",
              " 'known': 599,\n",
              " 'sons': 600,\n",
              " 'command': 601,\n",
              " 'deed': 602,\n",
              " 'past': 603,\n",
              " 'unless': 604,\n",
              " 'twenty': 605,\n",
              " 'mad': 606,\n",
              " 'antonio': 607,\n",
              " 'ten': 608,\n",
              " 'yes': 609,\n",
              " 'bound': 610,\n",
              " 'oer': 611,\n",
              " 'dare': 612,\n",
              " 'something': 613,\n",
              " 'fearful': 614,\n",
              " 'cut': 615,\n",
              " 'heir': 616,\n",
              " 'oxford': 617,\n",
              " 'lewis': 618,\n",
              " 'revenge': 619,\n",
              " 'masters': 620,\n",
              " 'point': 621,\n",
              " 'half': 622,\n",
              " 'company': 623,\n",
              " 'beat': 624,\n",
              " 'open': 625,\n",
              " 'serve': 626,\n",
              " 'draw': 627,\n",
              " 'wear': 628,\n",
              " 'ear': 629,\n",
              " 'voices': 630,\n",
              " 'withal': 631,\n",
              " 'sirrah': 632,\n",
              " 'highness': 633,\n",
              " 'beauty': 634,\n",
              " 'gonzalo': 635,\n",
              " 'ist': 636,\n",
              " 'virtue': 637,\n",
              " 'tale': 638,\n",
              " 'worse': 639,\n",
              " 'hark': 640,\n",
              " 'brave': 641,\n",
              " 'neither': 642,\n",
              " 'read': 643,\n",
              " 'next': 644,\n",
              " 'marriage': 645,\n",
              " 'become': 646,\n",
              " 'country': 647,\n",
              " 'side': 648,\n",
              " 'enemies': 649,\n",
              " 'change': 650,\n",
              " 'field': 651,\n",
              " 'youth': 652,\n",
              " 'seek': 653,\n",
              " 'methinks': 654,\n",
              " 'work': 655,\n",
              " 'ask': 656,\n",
              " 'pleasure': 657,\n",
              " 'loving': 658,\n",
              " 'sake': 659,\n",
              " 'counsel': 660,\n",
              " 'knew': 661,\n",
              " 'lancaster': 662,\n",
              " 'wars': 663,\n",
              " 'court': 664,\n",
              " 'met': 665,\n",
              " 'gates': 666,\n",
              " 'pale': 667,\n",
              " 'fast': 668,\n",
              " 'given': 669,\n",
              " 'coming': 670,\n",
              " 'behold': 671,\n",
              " 'today': 672,\n",
              " 'soldiers': 673,\n",
              " 'tower': 674,\n",
              " 'miranda': 675,\n",
              " 'further': 676,\n",
              " 'course': 677,\n",
              " 'rich': 678,\n",
              " 'confess': 679,\n",
              " 'run': 680,\n",
              " 'themselves': 681,\n",
              " 'strength': 682,\n",
              " 'ho': 683,\n",
              " 'took': 684,\n",
              " 'merry': 685,\n",
              " 'tonight': 686,\n",
              " 'gave': 687,\n",
              " 'lips': 688,\n",
              " 'elbow': 689,\n",
              " 'peter': 690,\n",
              " 'already': 691,\n",
              " 'curse': 692,\n",
              " 'tribunes': 693,\n",
              " 'along': 694,\n",
              " 'sworn': 695,\n",
              " 'between': 696,\n",
              " 'same': 697,\n",
              " 'pass': 698,\n",
              " 'title': 699,\n",
              " 'banishd': 700,\n",
              " 'sad': 701,\n",
              " 'just': 702,\n",
              " 'loved': 703,\n",
              " 'bold': 704,\n",
              " 'goes': 705,\n",
              " 'issue': 706,\n",
              " 'pluck': 707,\n",
              " 'spoke': 708,\n",
              " 'wind': 709,\n",
              " 'whilst': 710,\n",
              " 'bad': 711,\n",
              " 'office': 712,\n",
              " 'post': 713,\n",
              " 'bosom': 714,\n",
              " 'george': 715,\n",
              " 'dream': 716,\n",
              " 'england': 717,\n",
              " 'thomas': 718,\n",
              " 'perdita': 719,\n",
              " 'over': 720,\n",
              " 'jest': 721,\n",
              " 'fetch': 722,\n",
              " 'hadst': 723,\n",
              " 'wounds': 724,\n",
              " 'learn': 725,\n",
              " 'officer': 726,\n",
              " 'stanley': 727,\n",
              " 'subject': 728,\n",
              " 'faults': 729,\n",
              " 'soldier': 730,\n",
              " 'fit': 731,\n",
              " 'thence': 732,\n",
              " 'foe': 733,\n",
              " 'dangerous': 734,\n",
              " 'often': 735,\n",
              " 'grant': 736,\n",
              " 'forget': 737,\n",
              " 'suit': 738,\n",
              " 'entreat': 739,\n",
              " 'presence': 740,\n",
              " 'speed': 741,\n",
              " 'sly': 742,\n",
              " 'green': 743,\n",
              " 'soft': 744,\n",
              " 'strong': 745,\n",
              " 'attend': 746,\n",
              " 'prayers': 747,\n",
              " 'wast': 748,\n",
              " 'deny': 749,\n",
              " 'wert': 750,\n",
              " 'request': 751,\n",
              " 'worth': 752,\n",
              " 'gold': 753,\n",
              " 'voice': 754,\n",
              " 'heads': 755,\n",
              " 'black': 756,\n",
              " 'wit': 757,\n",
              " 'rage': 758,\n",
              " 'quarrel': 759,\n",
              " 'throne': 760,\n",
              " 'seems': 761,\n",
              " 'mighty': 762,\n",
              " 'order': 763,\n",
              " 'mariana': 764,\n",
              " 'deeds': 765,\n",
              " 'appear': 766,\n",
              " 'thither': 767,\n",
              " 'win': 768,\n",
              " 'battle': 769,\n",
              " 'mans': 770,\n",
              " 'almost': 771,\n",
              " 'throw': 772,\n",
              " 'lartius': 773,\n",
              " 'wherein': 774,\n",
              " 'lookd': 775,\n",
              " 'want': 776,\n",
              " 'buy': 777,\n",
              " 'march': 778,\n",
              " 'consent': 779,\n",
              " 'begin': 780,\n",
              " 'princely': 781,\n",
              " 'devil': 782,\n",
              " 'morning': 783,\n",
              " 'calld': 784,\n",
              " 'case': 785,\n",
              " 'london': 786,\n",
              " 'somerset': 787,\n",
              " 'pretty': 788,\n",
              " 'feel': 789,\n",
              " 'wise': 790,\n",
              " 'valiant': 791,\n",
              " 'wonder': 792,\n",
              " 'honours': 793,\n",
              " 'whence': 794,\n",
              " 'got': 795,\n",
              " 'brief': 796,\n",
              " 'above': 797,\n",
              " 'others': 798,\n",
              " 'harm': 799,\n",
              " 'hot': 800,\n",
              " 'subjects': 801,\n",
              " 'consul': 802,\n",
              " 'ancient': 803,\n",
              " 'breast': 804,\n",
              " 'speech': 805,\n",
              " 'water': 806,\n",
              " 'presently': 807,\n",
              " 'move': 808,\n",
              " 'watch': 809,\n",
              " 'killd': 810,\n",
              " 'ratcliff': 811,\n",
              " 'music': 812,\n",
              " 'earl': 813,\n",
              " 'roman': 814,\n",
              " 'alack': 815,\n",
              " 't': 816,\n",
              " 'tot': 817,\n",
              " 'hang': 818,\n",
              " 'five': 819,\n",
              " 'held': 820,\n",
              " 'whether': 821,\n",
              " 'slave': 822,\n",
              " 'eer': 823,\n",
              " 'least': 824,\n",
              " 'measure': 825,\n",
              " 'towards': 826,\n",
              " 'poison': 827,\n",
              " 'knock': 828,\n",
              " 'forward': 829,\n",
              " 'murder': 830,\n",
              " 'mayor': 831,\n",
              " 'mowbray': 832,\n",
              " 'em': 833,\n",
              " 'awhile': 834,\n",
              " 'moon': 835,\n",
              " 'promise': 836,\n",
              " 'hearing': 837,\n",
              " 'virgilia': 838,\n",
              " 'wouldst': 839,\n",
              " 'touch': 840,\n",
              " 'mortal': 841,\n",
              " 'flesh': 842,\n",
              " 'witness': 843,\n",
              " 'living': 844,\n",
              " 'close': 845,\n",
              " 'keeper': 846,\n",
              " 'hereford': 847,\n",
              " 'curtis': 848,\n",
              " 'ariel': 849,\n",
              " 'worst': 850,\n",
              " 'greater': 851,\n",
              " 'besides': 852,\n",
              " 'chance': 853,\n",
              " 'base': 854,\n",
              " 'breathe': 855,\n",
              " 'quickly': 856,\n",
              " 'pay': 857,\n",
              " 'grow': 858,\n",
              " 'toward': 859,\n",
              " 'letters': 860,\n",
              " 'dot': 861,\n",
              " 'blows': 862,\n",
              " 'wherefore': 863,\n",
              " 'deserved': 864,\n",
              " 'ourselves': 865,\n",
              " 'virtuous': 866,\n",
              " 'anon': 867,\n",
              " 'patient': 868,\n",
              " 'goodly': 869,\n",
              " 'lawful': 870,\n",
              " 'weeping': 871,\n",
              " 'guilty': 872,\n",
              " 'antigonus': 873,\n",
              " 'ont': 874,\n",
              " 'note': 875,\n",
              " 'small': 876,\n",
              " 'offence': 877,\n",
              " 'whither': 878,\n",
              " 'needs': 879,\n",
              " 'stir': 880,\n",
              " 'ladies': 881,\n",
              " 'tear': 882,\n",
              " 'shows': 883,\n",
              " 'feast': 884,\n",
              " 'truly': 885,\n",
              " 'beg': 886,\n",
              " 'angry': 887,\n",
              " 'fled': 888,\n",
              " 'daughters': 889,\n",
              " 'mouth': 890,\n",
              " 'worship': 891,\n",
              " 'banishment': 892,\n",
              " 'longer': 893,\n",
              " 'henrys': 894,\n",
              " 'golden': 895,\n",
              " 'derby': 896,\n",
              " 'englands': 897,\n",
              " 'woes': 898,\n",
              " 'exeter': 899,\n",
              " 'pedant': 900,\n",
              " 'speaks': 901,\n",
              " 'aside': 902,\n",
              " 'defend': 903,\n",
              " 'behind': 904,\n",
              " 'action': 905,\n",
              " 'won': 906,\n",
              " 'knee': 907,\n",
              " 'town': 908,\n",
              " 'sudden': 909,\n",
              " 'shed': 910,\n",
              " 'hard': 911,\n",
              " 'short': 912,\n",
              " 'taen': 913,\n",
              " 'doing': 914,\n",
              " 'slew': 915,\n",
              " 'sense': 916,\n",
              " 'liberty': 917,\n",
              " 'amen': 918,\n",
              " 'bears': 919,\n",
              " 'clouds': 920,\n",
              " 'laid': 921,\n",
              " 'plain': 922,\n",
              " 'choose': 923,\n",
              " 'enter': 924,\n",
              " 'traitors': 925,\n",
              " 'book': 926,\n",
              " 'rough': 927,\n",
              " 'until': 928,\n",
              " 'queens': 929,\n",
              " 'lands': 930,\n",
              " 'year': 931,\n",
              " 'bohemia': 932,\n",
              " 'isabel': 933,\n",
              " 'padua': 934,\n",
              " 'act': 935,\n",
              " 'deliver': 936,\n",
              " 'lead': 937,\n",
              " 'broke': 938,\n",
              " 'four': 939,\n",
              " 'visit': 940,\n",
              " 'neck': 941,\n",
              " 'fine': 942,\n",
              " 'hundred': 943,\n",
              " 'blow': 944,\n",
              " 'noise': 945,\n",
              " 'certain': 946,\n",
              " 'hide': 947,\n",
              " 'prisoner': 948,\n",
              " 'int': 949,\n",
              " 'victory': 950,\n",
              " 'mothers': 951,\n",
              " 'lived': 952,\n",
              " 'dry': 953,\n",
              " 'stood': 954,\n",
              " 'oft': 955,\n",
              " 'conscience': 956,\n",
              " 'piece': 957,\n",
              " 'commend': 958,\n",
              " 'bones': 959,\n",
              " 'vow': 960,\n",
              " 'leisure': 961,\n",
              " 'plantagenet': 962,\n",
              " 'kingdom': 963,\n",
              " 'princes': 964,\n",
              " 'bawd': 965,\n",
              " 'bride': 966,\n",
              " 'yourselves': 967,\n",
              " 'knees': 968,\n",
              " 'seat': 969,\n",
              " 'rise': 970,\n",
              " 'wheres': 971,\n",
              " 'glad': 972,\n",
              " 'letter': 973,\n",
              " 'womb': 974,\n",
              " 'danger': 975,\n",
              " 'shake': 976,\n",
              " 'countrys': 977,\n",
              " 'wash': 978,\n",
              " 'forgot': 979,\n",
              " 'pride': 980,\n",
              " 'drink': 981,\n",
              " 'knowledge': 982,\n",
              " 'twixt': 983,\n",
              " 'adieu': 984,\n",
              " 'twice': 985,\n",
              " 'kept': 986,\n",
              " 'fortunes': 987,\n",
              " 'forbid': 988,\n",
              " 'teach': 989,\n",
              " 'morrow': 990,\n",
              " 'blessed': 991,\n",
              " 'herself': 992,\n",
              " 'glory': 993,\n",
              " 'few': 994,\n",
              " 'chamber': 995,\n",
              " 'alive': 996,\n",
              " 'rutland': 997,\n",
              " 'bitter': 998,\n",
              " 'bushy': 999,\n",
              " 'watchman': 1000,\n",
              " ...}"
            ]
          },
          "metadata": {},
          "execution_count": 55
        }
      ]
    },
    {
      "cell_type": "code",
      "source": [
        "vocabulary_size = len(tokenizer.word_index)+1 # we have a 12847 unique word mapped to unique numbers\n",
        "print(vocabulary_size)"
      ],
      "metadata": {
        "colab": {
          "base_uri": "https://localhost:8080/"
        },
        "id": "j-MNZ3vXy_jS",
        "outputId": "2578936c-19ea-4c76-e296-577449f1c431"
      },
      "execution_count": 18,
      "outputs": [
        {
          "output_type": "stream",
          "name": "stdout",
          "text": [
            "12848\n"
          ]
        }
      ]
    },
    {
      "cell_type": "code",
      "source": [
        "sequence_length = X.shape[1] # we have 10 words in each datapoint\n",
        "print(X.shape)"
      ],
      "metadata": {
        "colab": {
          "base_uri": "https://localhost:8080/"
        },
        "id": "Rqbh2v6hzVCk",
        "outputId": "9a478563-71ef-4c6d-834b-feab91710914"
      },
      "execution_count": 19,
      "outputs": [
        {
          "output_type": "stream",
          "name": "stdout",
          "text": [
            "(202608, 10)\n"
          ]
        }
      ]
    },
    {
      "cell_type": "code",
      "source": [
        "print(\"X shape:\", X.shape)\n",
        "print(\"Y shape:\", Y.shape)\n",
        "print(\"Min X:\", np.min(X), \"Max X:\", np.max(X))\n",
        "print(\"Min Y:\", np.min(Y), \"Max Y:\", np.max(Y))\n",
        "print(\"Vocabulary size:\", vocabulary_size)"
      ],
      "metadata": {
        "colab": {
          "base_uri": "https://localhost:8080/"
        },
        "id": "Gk6TX8DA9vqt",
        "outputId": "768191dc-728a-4fb0-b4d5-aecc42288c7b"
      },
      "execution_count": 20,
      "outputs": [
        {
          "output_type": "stream",
          "name": "stdout",
          "text": [
            "X shape: (202608, 10)\n",
            "Y shape: (202608,)\n",
            "Min X: 1 Max X: 12847\n",
            "Min Y: 1 Max Y: 12847\n",
            "Vocabulary size: 12848\n"
          ]
        }
      ]
    },
    {
      "cell_type": "markdown",
      "source": [
        "# LSTM model"
      ],
      "metadata": {
        "id": "GZhOhoGO0Diz"
      }
    },
    {
      "cell_type": "code",
      "source": [
        "embedding_dim = 100\n",
        "model = Sequential()\n",
        "model.add(Embedding(vocabulary_size,embedding_dim, input_length = sequence_length))\n",
        "model.add(LSTM(embedding_dim, return_sequences = True))\n",
        "model.add(LSTM(embedding_dim, return_sequences =False))\n",
        "model.add(Dense(10, activation = 'relu'))\n",
        "model.add(Dense(vocabulary_size, activation='softmax' ))"
      ],
      "metadata": {
        "id": "iG41OsGpzy-D",
        "colab": {
          "base_uri": "https://localhost:8080/"
        },
        "outputId": "3be1601f-7787-4535-e386-c771c9422201"
      },
      "execution_count": 21,
      "outputs": [
        {
          "output_type": "stream",
          "name": "stderr",
          "text": [
            "/usr/local/lib/python3.11/dist-packages/keras/src/layers/core/embedding.py:90: UserWarning: Argument `input_length` is deprecated. Just remove it.\n",
            "  warnings.warn(\n"
          ]
        }
      ]
    },
    {
      "cell_type": "code",
      "source": [
        "model.build(input_shape=(None, sequence_length))\n",
        "model.summary()"
      ],
      "metadata": {
        "colab": {
          "base_uri": "https://localhost:8080/",
          "height": 294
        },
        "id": "2O2axowA2QOB",
        "outputId": "e516fabf-fb0f-4010-8c98-6f99e79be463"
      },
      "execution_count": 22,
      "outputs": [
        {
          "output_type": "display_data",
          "data": {
            "text/plain": [
              "\u001b[1mModel: \"sequential\"\u001b[0m\n"
            ],
            "text/html": [
              "<pre style=\"white-space:pre;overflow-x:auto;line-height:normal;font-family:Menlo,'DejaVu Sans Mono',consolas,'Courier New',monospace\"><span style=\"font-weight: bold\">Model: \"sequential\"</span>\n",
              "</pre>\n"
            ]
          },
          "metadata": {}
        },
        {
          "output_type": "display_data",
          "data": {
            "text/plain": [
              "┏━━━━━━━━━━━━━━━━━━━━━━━━━━━━━━━━━┳━━━━━━━━━━━━━━━━━━━━━━━━┳━━━━━━━━━━━━━━━┓\n",
              "┃\u001b[1m \u001b[0m\u001b[1mLayer (type)                   \u001b[0m\u001b[1m \u001b[0m┃\u001b[1m \u001b[0m\u001b[1mOutput Shape          \u001b[0m\u001b[1m \u001b[0m┃\u001b[1m \u001b[0m\u001b[1m      Param #\u001b[0m\u001b[1m \u001b[0m┃\n",
              "┡━━━━━━━━━━━━━━━━━━━━━━━━━━━━━━━━━╇━━━━━━━━━━━━━━━━━━━━━━━━╇━━━━━━━━━━━━━━━┩\n",
              "│ embedding (\u001b[38;5;33mEmbedding\u001b[0m)           │ (\u001b[38;5;45mNone\u001b[0m, \u001b[38;5;34m10\u001b[0m, \u001b[38;5;34m100\u001b[0m)        │     \u001b[38;5;34m1,284,800\u001b[0m │\n",
              "├─────────────────────────────────┼────────────────────────┼───────────────┤\n",
              "│ lstm (\u001b[38;5;33mLSTM\u001b[0m)                     │ (\u001b[38;5;45mNone\u001b[0m, \u001b[38;5;34m10\u001b[0m, \u001b[38;5;34m100\u001b[0m)        │        \u001b[38;5;34m80,400\u001b[0m │\n",
              "├─────────────────────────────────┼────────────────────────┼───────────────┤\n",
              "│ lstm_1 (\u001b[38;5;33mLSTM\u001b[0m)                   │ (\u001b[38;5;45mNone\u001b[0m, \u001b[38;5;34m100\u001b[0m)            │        \u001b[38;5;34m80,400\u001b[0m │\n",
              "├─────────────────────────────────┼────────────────────────┼───────────────┤\n",
              "│ dense (\u001b[38;5;33mDense\u001b[0m)                   │ (\u001b[38;5;45mNone\u001b[0m, \u001b[38;5;34m10\u001b[0m)             │         \u001b[38;5;34m1,010\u001b[0m │\n",
              "├─────────────────────────────────┼────────────────────────┼───────────────┤\n",
              "│ dense_1 (\u001b[38;5;33mDense\u001b[0m)                 │ (\u001b[38;5;45mNone\u001b[0m, \u001b[38;5;34m12848\u001b[0m)          │       \u001b[38;5;34m141,328\u001b[0m │\n",
              "└─────────────────────────────────┴────────────────────────┴───────────────┘\n"
            ],
            "text/html": [
              "<pre style=\"white-space:pre;overflow-x:auto;line-height:normal;font-family:Menlo,'DejaVu Sans Mono',consolas,'Courier New',monospace\">┏━━━━━━━━━━━━━━━━━━━━━━━━━━━━━━━━━┳━━━━━━━━━━━━━━━━━━━━━━━━┳━━━━━━━━━━━━━━━┓\n",
              "┃<span style=\"font-weight: bold\"> Layer (type)                    </span>┃<span style=\"font-weight: bold\"> Output Shape           </span>┃<span style=\"font-weight: bold\">       Param # </span>┃\n",
              "┡━━━━━━━━━━━━━━━━━━━━━━━━━━━━━━━━━╇━━━━━━━━━━━━━━━━━━━━━━━━╇━━━━━━━━━━━━━━━┩\n",
              "│ embedding (<span style=\"color: #0087ff; text-decoration-color: #0087ff\">Embedding</span>)           │ (<span style=\"color: #00d7ff; text-decoration-color: #00d7ff\">None</span>, <span style=\"color: #00af00; text-decoration-color: #00af00\">10</span>, <span style=\"color: #00af00; text-decoration-color: #00af00\">100</span>)        │     <span style=\"color: #00af00; text-decoration-color: #00af00\">1,284,800</span> │\n",
              "├─────────────────────────────────┼────────────────────────┼───────────────┤\n",
              "│ lstm (<span style=\"color: #0087ff; text-decoration-color: #0087ff\">LSTM</span>)                     │ (<span style=\"color: #00d7ff; text-decoration-color: #00d7ff\">None</span>, <span style=\"color: #00af00; text-decoration-color: #00af00\">10</span>, <span style=\"color: #00af00; text-decoration-color: #00af00\">100</span>)        │        <span style=\"color: #00af00; text-decoration-color: #00af00\">80,400</span> │\n",
              "├─────────────────────────────────┼────────────────────────┼───────────────┤\n",
              "│ lstm_1 (<span style=\"color: #0087ff; text-decoration-color: #0087ff\">LSTM</span>)                   │ (<span style=\"color: #00d7ff; text-decoration-color: #00d7ff\">None</span>, <span style=\"color: #00af00; text-decoration-color: #00af00\">100</span>)            │        <span style=\"color: #00af00; text-decoration-color: #00af00\">80,400</span> │\n",
              "├─────────────────────────────────┼────────────────────────┼───────────────┤\n",
              "│ dense (<span style=\"color: #0087ff; text-decoration-color: #0087ff\">Dense</span>)                   │ (<span style=\"color: #00d7ff; text-decoration-color: #00d7ff\">None</span>, <span style=\"color: #00af00; text-decoration-color: #00af00\">10</span>)             │         <span style=\"color: #00af00; text-decoration-color: #00af00\">1,010</span> │\n",
              "├─────────────────────────────────┼────────────────────────┼───────────────┤\n",
              "│ dense_1 (<span style=\"color: #0087ff; text-decoration-color: #0087ff\">Dense</span>)                 │ (<span style=\"color: #00d7ff; text-decoration-color: #00d7ff\">None</span>, <span style=\"color: #00af00; text-decoration-color: #00af00\">12848</span>)          │       <span style=\"color: #00af00; text-decoration-color: #00af00\">141,328</span> │\n",
              "└─────────────────────────────────┴────────────────────────┴───────────────┘\n",
              "</pre>\n"
            ]
          },
          "metadata": {}
        },
        {
          "output_type": "display_data",
          "data": {
            "text/plain": [
              "\u001b[1m Total params: \u001b[0m\u001b[38;5;34m1,587,938\u001b[0m (6.06 MB)\n"
            ],
            "text/html": [
              "<pre style=\"white-space:pre;overflow-x:auto;line-height:normal;font-family:Menlo,'DejaVu Sans Mono',consolas,'Courier New',monospace\"><span style=\"font-weight: bold\"> Total params: </span><span style=\"color: #00af00; text-decoration-color: #00af00\">1,587,938</span> (6.06 MB)\n",
              "</pre>\n"
            ]
          },
          "metadata": {}
        },
        {
          "output_type": "display_data",
          "data": {
            "text/plain": [
              "\u001b[1m Trainable params: \u001b[0m\u001b[38;5;34m1,587,938\u001b[0m (6.06 MB)\n"
            ],
            "text/html": [
              "<pre style=\"white-space:pre;overflow-x:auto;line-height:normal;font-family:Menlo,'DejaVu Sans Mono',consolas,'Courier New',monospace\"><span style=\"font-weight: bold\"> Trainable params: </span><span style=\"color: #00af00; text-decoration-color: #00af00\">1,587,938</span> (6.06 MB)\n",
              "</pre>\n"
            ]
          },
          "metadata": {}
        },
        {
          "output_type": "display_data",
          "data": {
            "text/plain": [
              "\u001b[1m Non-trainable params: \u001b[0m\u001b[38;5;34m0\u001b[0m (0.00 B)\n"
            ],
            "text/html": [
              "<pre style=\"white-space:pre;overflow-x:auto;line-height:normal;font-family:Menlo,'DejaVu Sans Mono',consolas,'Courier New',monospace\"><span style=\"font-weight: bold\"> Non-trainable params: </span><span style=\"color: #00af00; text-decoration-color: #00af00\">0</span> (0.00 B)\n",
              "</pre>\n"
            ]
          },
          "metadata": {}
        }
      ]
    },
    {
      "cell_type": "code",
      "source": [
        "model.compile(\n",
        "    optimizer = tf.keras.optimizers.Adam(learning_rate=1e-4, clipnorm = 1.0),\n",
        "    loss = 'sparse_categorical_crossentropy',\n",
        "    metrics = ['accuracy']\n",
        ")"
      ],
      "metadata": {
        "id": "Fn5Adbix2bJ5"
      },
      "execution_count": 23,
      "outputs": []
    },
    {
      "cell_type": "code",
      "source": [
        "model.fit(X,Y, batch_size=128, epochs = 10)"
      ],
      "metadata": {
        "colab": {
          "base_uri": "https://localhost:8080/"
        },
        "id": "Vfb-zmPL5YYr",
        "outputId": "1e6330fe-0774-414c-b478-7535a454497c"
      },
      "execution_count": 24,
      "outputs": [
        {
          "output_type": "stream",
          "name": "stdout",
          "text": [
            "Epoch 1/10\n",
            "\u001b[1m1583/1583\u001b[0m \u001b[32m━━━━━━━━━━━━━━━━━━━━\u001b[0m\u001b[37m\u001b[0m \u001b[1m21s\u001b[0m 10ms/step - accuracy: 0.0265 - loss: 7.8827\n",
            "Epoch 2/10\n",
            "\u001b[1m1583/1583\u001b[0m \u001b[32m━━━━━━━━━━━━━━━━━━━━\u001b[0m\u001b[37m\u001b[0m \u001b[1m17s\u001b[0m 9ms/step - accuracy: 0.0307 - loss: 6.7757\n",
            "Epoch 3/10\n",
            "\u001b[1m1583/1583\u001b[0m \u001b[32m━━━━━━━━━━━━━━━━━━━━\u001b[0m\u001b[37m\u001b[0m \u001b[1m20s\u001b[0m 9ms/step - accuracy: 0.0308 - loss: 6.7621\n",
            "Epoch 4/10\n",
            "\u001b[1m1583/1583\u001b[0m \u001b[32m━━━━━━━━━━━━━━━━━━━━\u001b[0m\u001b[37m\u001b[0m \u001b[1m15s\u001b[0m 10ms/step - accuracy: 0.0306 - loss: 6.7490\n",
            "Epoch 5/10\n",
            "\u001b[1m1583/1583\u001b[0m \u001b[32m━━━━━━━━━━━━━━━━━━━━\u001b[0m\u001b[37m\u001b[0m \u001b[1m20s\u001b[0m 9ms/step - accuracy: 0.0300 - loss: 6.7382\n",
            "Epoch 6/10\n",
            "\u001b[1m1583/1583\u001b[0m \u001b[32m━━━━━━━━━━━━━━━━━━━━\u001b[0m\u001b[37m\u001b[0m \u001b[1m14s\u001b[0m 9ms/step - accuracy: 0.0318 - loss: 6.6671\n",
            "Epoch 7/10\n",
            "\u001b[1m1583/1583\u001b[0m \u001b[32m━━━━━━━━━━━━━━━━━━━━\u001b[0m\u001b[37m\u001b[0m \u001b[1m14s\u001b[0m 9ms/step - accuracy: 0.0307 - loss: 6.6389\n",
            "Epoch 8/10\n",
            "\u001b[1m1583/1583\u001b[0m \u001b[32m━━━━━━━━━━━━━━━━━━━━\u001b[0m\u001b[37m\u001b[0m \u001b[1m15s\u001b[0m 9ms/step - accuracy: 0.0313 - loss: 6.6261\n",
            "Epoch 9/10\n",
            "\u001b[1m1583/1583\u001b[0m \u001b[32m━━━━━━━━━━━━━━━━━━━━\u001b[0m\u001b[37m\u001b[0m \u001b[1m21s\u001b[0m 9ms/step - accuracy: 0.0315 - loss: 6.6117\n",
            "Epoch 10/10\n",
            "\u001b[1m1583/1583\u001b[0m \u001b[32m━━━━━━━━━━━━━━━━━━━━\u001b[0m\u001b[37m\u001b[0m \u001b[1m14s\u001b[0m 9ms/step - accuracy: 0.0324 - loss: 6.5777\n"
          ]
        },
        {
          "output_type": "execute_result",
          "data": {
            "text/plain": [
              "<keras.src.callbacks.history.History at 0x7b6571320190>"
            ]
          },
          "metadata": {},
          "execution_count": 24
        }
      ]
    },
    {
      "cell_type": "code",
      "source": [
        "seed_text = lines[12353]\n",
        "encoded = tokenizer.texts_to_sequences([seed_text])[0] # zeroth dimension\n",
        "encoded = pad_sequences([encoded], maxlen = sequence_length, truncating = 'pre')\n",
        "prediction = model.predict(encoded)\n",
        "predicted_word = ''\n",
        "# print(tokenizer.word_index.items())\n",
        "for word, index in tokenizer.word_index.items():\n",
        "      if index == np.argmax(prediction[0]):\n",
        "        predicted_word = word\n",
        "        break\n",
        "print(seed_text)\n",
        "print(seed_text + \" \" + predicted_word)\n",
        "print()"
      ],
      "metadata": {
        "colab": {
          "base_uri": "https://localhost:8080/"
        },
        "id": "8YiSAO3TN1NR",
        "outputId": "c74094d5-e341-46df-8e8f-e254db8da9a0"
      },
      "execution_count": 63,
      "outputs": [
        {
          "output_type": "stream",
          "name": "stdout",
          "text": [
            "\u001b[1m1/1\u001b[0m \u001b[32m━━━━━━━━━━━━━━━━━━━━\u001b[0m\u001b[37m\u001b[0m \u001b[1m0s\u001b[0m 31ms/step\n",
            "was given them gratis you repined scandald the suppliants for the\n",
            "was given them gratis you repined scandald the suppliants for the the\n",
            "\n"
          ]
        }
      ]
    },
    {
      "cell_type": "code",
      "source": [
        "def generate_text_seq(model, tokenizer, text_seq_length, seed_text, n_words):\n",
        "  text = []\n",
        "\n",
        "  for _ in range(n_words):\n",
        "    encoded = tokenizer.texts_to_sequences([seed_text])[0] # zeroth dimension\n",
        "    encoded = pad_sequences([encoded], maxlen = sequence_length, truncating = 'pre')\n",
        "\n",
        "    prediction = model.predict(encoded)\n",
        "    predicted_word = ''\n",
        "    for word, index in tokenizer.word_index.items():\n",
        "      if index == np.argmax(prediction[0]):\n",
        "        predicted_word = word\n",
        "        break\n",
        "\n",
        "    seed_text = seed_text + ' ' + predicted_word\n",
        "    text.append(predicted_word)\n",
        "  return \" \".join(text)\n"
      ],
      "metadata": {
        "id": "RjeCvIG95wpy"
      },
      "execution_count": 69,
      "outputs": []
    },
    {
      "cell_type": "code",
      "source": [
        "seed_text = lines[12353]\n",
        "\n",
        "generated_text = seed_text + \" \"+ generate_text_seq(model, tokenizer, sequence_length, seed_text, 10)\n",
        "print(seed_text)\n",
        "print(generated_text)"
      ],
      "metadata": {
        "colab": {
          "base_uri": "https://localhost:8080/"
        },
        "id": "8v5qcVDaMRBU",
        "outputId": "83e36702-ce1d-4530-a663-3cdee989dfdb"
      },
      "execution_count": 74,
      "outputs": [
        {
          "output_type": "stream",
          "name": "stdout",
          "text": [
            "\u001b[1m1/1\u001b[0m \u001b[32m━━━━━━━━━━━━━━━━━━━━\u001b[0m\u001b[37m\u001b[0m \u001b[1m0s\u001b[0m 30ms/step\n",
            "\u001b[1m1/1\u001b[0m \u001b[32m━━━━━━━━━━━━━━━━━━━━\u001b[0m\u001b[37m\u001b[0m \u001b[1m0s\u001b[0m 43ms/step\n",
            "\u001b[1m1/1\u001b[0m \u001b[32m━━━━━━━━━━━━━━━━━━━━\u001b[0m\u001b[37m\u001b[0m \u001b[1m0s\u001b[0m 29ms/step\n",
            "\u001b[1m1/1\u001b[0m \u001b[32m━━━━━━━━━━━━━━━━━━━━\u001b[0m\u001b[37m\u001b[0m \u001b[1m0s\u001b[0m 31ms/step\n",
            "\u001b[1m1/1\u001b[0m \u001b[32m━━━━━━━━━━━━━━━━━━━━\u001b[0m\u001b[37m\u001b[0m \u001b[1m0s\u001b[0m 29ms/step\n",
            "\u001b[1m1/1\u001b[0m \u001b[32m━━━━━━━━━━━━━━━━━━━━\u001b[0m\u001b[37m\u001b[0m \u001b[1m0s\u001b[0m 29ms/step\n",
            "\u001b[1m1/1\u001b[0m \u001b[32m━━━━━━━━━━━━━━━━━━━━\u001b[0m\u001b[37m\u001b[0m \u001b[1m0s\u001b[0m 29ms/step\n",
            "\u001b[1m1/1\u001b[0m \u001b[32m━━━━━━━━━━━━━━━━━━━━\u001b[0m\u001b[37m\u001b[0m \u001b[1m0s\u001b[0m 33ms/step\n",
            "\u001b[1m1/1\u001b[0m \u001b[32m━━━━━━━━━━━━━━━━━━━━\u001b[0m\u001b[37m\u001b[0m \u001b[1m0s\u001b[0m 32ms/step\n",
            "\u001b[1m1/1\u001b[0m \u001b[32m━━━━━━━━━━━━━━━━━━━━\u001b[0m\u001b[37m\u001b[0m \u001b[1m0s\u001b[0m 30ms/step\n",
            "was given them gratis you repined scandald the suppliants for the\n",
            "was given them gratis you repined scandald the suppliants for the the the the and bracelet bracelet and and the the\n"
          ]
        }
      ]
    },
    {
      "cell_type": "code",
      "source": [],
      "metadata": {
        "id": "_H8kgNY8MiYR"
      },
      "execution_count": null,
      "outputs": []
    }
  ]
}